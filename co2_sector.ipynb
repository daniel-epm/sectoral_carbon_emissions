{
 "cells": [
  {
   "cell_type": "markdown",
   "metadata": {},
   "source": [
    "# Sectoral $CO_2$ emissions by country and year"
   ]
  },
  {
   "cell_type": "markdown",
   "metadata": {},
   "source": [
    "## About the dataset\n",
    "The CO2 Emissions Dataset offers comprehensive information on CO2 emissions across countries and sectors, aiding researchers and policymakers in understanding and addressing their impact on the environment."
   ]
  },
  {
   "cell_type": "code",
   "execution_count": 2,
   "metadata": {},
   "outputs": [],
   "source": [
    "# Import libraries\n",
    "import os\n",
    "import pandas as pd\n",
    "import numpy as np\n",
    "import matplotlib.pyplot as plt"
   ]
  },
  {
   "cell_type": "code",
   "execution_count": 6,
   "metadata": {},
   "outputs": [],
   "source": [
    "file_path = os.getcwd() + \"/dataset.csv\""
   ]
  },
  {
   "cell_type": "code",
   "execution_count": 19,
   "metadata": {},
   "outputs": [
    {
     "name": "stdout",
     "output_type": "stream",
     "text": [
      "     country        date sector      value   timestamp\n",
      "0     Brazil  01/01/2019  Power   0.096799  1546300800\n",
      "1      China  01/01/2019  Power  14.816100  1546300800\n",
      "2  EU27 & UK  01/01/2019  Power   1.886490  1546300800\n",
      "3     France  01/01/2019  Power   0.051217  1546300800\n",
      "4    Germany  01/01/2019  Power   0.315002  1546300800\n"
     ]
    }
   ],
   "source": [
    "# load dataset\n",
    "emissions = pd.read_csv(file_path)\n",
    "print(emissions.head())"
   ]
  },
  {
   "cell_type": "code",
   "execution_count": 20,
   "metadata": {},
   "outputs": [
    {
     "name": "stdout",
     "output_type": "stream",
     "text": [
      "<class 'pandas.core.frame.DataFrame'>\n",
      "RangeIndex: 135408 entries, 0 to 135407\n",
      "Data columns (total 5 columns):\n",
      " #   Column     Non-Null Count   Dtype  \n",
      "---  ------     --------------   -----  \n",
      " 0   country    135408 non-null  object \n",
      " 1   date       135408 non-null  object \n",
      " 2   sector     135408 non-null  object \n",
      " 3   value      135408 non-null  float64\n",
      " 4   timestamp  135408 non-null  int64  \n",
      "dtypes: float64(1), int64(1), object(3)\n",
      "memory usage: 5.2+ MB\n"
     ]
    }
   ],
   "source": [
    "emissions.info()"
   ]
  },
  {
   "cell_type": "code",
   "execution_count": 26,
   "metadata": {},
   "outputs": [
    {
     "name": "stdout",
     "output_type": "stream",
     "text": [
      "country\n",
      "Brazil       9672\n",
      "China        9672\n",
      "EU27 & UK    9672\n",
      "France       9672\n",
      "Germany      9672\n",
      "India        9672\n",
      "Italy        9672\n",
      "Japan        9672\n",
      "ROW          9672\n",
      "Russia       9672\n",
      "Spain        9672\n",
      "UK           9672\n",
      "US           9672\n",
      "WORLD        9672\n",
      "Name: count, dtype: int64\n"
     ]
    }
   ],
   "source": [
    "print(emissions['country'].value_counts())"
   ]
  },
  {
   "cell_type": "code",
   "execution_count": 27,
   "metadata": {},
   "outputs": [
    {
     "name": "stdout",
     "output_type": "stream",
     "text": [
      "sector\n",
      "Power                     22568\n",
      "Industry                  22568\n",
      "Ground Transport          22568\n",
      "Residential               22568\n",
      "Domestic Aviation         22568\n",
      "International Aviation    22568\n",
      "Name: count, dtype: int64\n"
     ]
    }
   ],
   "source": [
    "print(emissions['sector'].value_counts())"
   ]
  },
  {
   "cell_type": "code",
   "execution_count": 35,
   "metadata": {},
   "outputs": [
    {
     "name": "stdout",
     "output_type": "stream",
     "text": [
      "['01/01/2019' '02/01/2019' '03/01/2019' ... '29/05/2023' '30/05/2023'\n",
      " '31/05/2023']\n"
     ]
    }
   ],
   "source": [
    "print(emissions['date'].unique())"
   ]
  },
  {
   "cell_type": "markdown",
   "metadata": {},
   "source": [
    "For each country/region there is a total of 9672 observations, corresponding to information for each of the 6 sectos over the interval of 1612 days - from 01/01/2019 to 31/05/2023."
   ]
  },
  {
   "cell_type": "code",
   "execution_count": null,
   "metadata": {},
   "outputs": [],
   "source": []
  }
 ],
 "metadata": {
  "kernelspec": {
   "display_name": "pyr",
   "language": "python",
   "name": "python3"
  },
  "language_info": {
   "codemirror_mode": {
    "name": "ipython",
    "version": 3
   },
   "file_extension": ".py",
   "mimetype": "text/x-python",
   "name": "python",
   "nbconvert_exporter": "python",
   "pygments_lexer": "ipython3",
   "version": "3.8.11"
  }
 },
 "nbformat": 4,
 "nbformat_minor": 2
}
